{
 "cells": [
  {
   "cell_type": "code",
   "execution_count": 2,
   "id": "9418c8f0",
   "metadata": {},
   "outputs": [],
   "source": [
    "import pyautogui\n",
    "from PIL import ImageGrab\n",
    "import time\n",
    "from pytesseract import pytesseract \n",
    "  \n",
    "# Defining paths to tesseract.exe \n",
    "# download the tessaract file(i have provided it in the repository) and copy paste its path below\n",
    "path_to_tesseract = r\"C:\\Program Files\\Tesseract-OCR\\tesseract.exe\"\n",
    "\n",
    "# Define the area to capture (replace with coordinates for your specific region)\n",
    "#these are the coordinates for typeracer website when in full screen\n",
    "left = 185\n",
    "top = 110\n",
    "width = 1000\n",
    "height = 220  # approx 32.5 each line / 130 is for 4 lines / 220 is approximately for 6-7 lines\n",
    "time.sleep(3)\n",
    "\n",
    "# Capture the screenshot\n",
    "screenshot = ImageGrab.grab((left, top, left + width, top + height))\n",
    "#screenshot.show() # use this line to view and save the screenshot into local storage\n",
    "\n",
    "img= screenshot\n",
    "\n",
    "# Providing the tesseract executable \n",
    "# location to pytesseract library \n",
    "pytesseract.tesseract_cmd = path_to_tesseract \n",
    "  \n",
    "# Passing the image object to image_to_string() function \n",
    "# This function will extract the text from the image \n",
    "text = pytesseract.image_to_string(img) \n",
    "\n",
    "# Type the extracted text\n",
    "text=text.replace('\\n',' ')\n",
    "text = text.replace('change display format','')\n",
    "text = text.replace('Type the above text here when the race begins','')\n",
    "text = text.replace('-\\n','')\n",
    "if text[0:2]=='II':\n",
    "    text=text[1:]\n",
    "if text[0]=='[':\n",
    "    text=text[1:]\n",
    "try:\n",
    "    # Slow typing speed (larger interval)\n",
    "    pyautogui.typewrite(text, interval=0.015)\n",
    "except KeyboardInterrupt:\n",
    "    print(\"Script interrupted by user (Ctrl+C).\")\n",
    "\n",
    "#pyautogui.typewrite(text, interval=100)\n"
   ]
  },
  {
   "cell_type": "code",
   "execution_count": null,
   "id": "6a7d91f0",
   "metadata": {},
   "outputs": [],
   "source": []
  }
 ],
 "metadata": {
  "kernelspec": {
   "display_name": "Python 3 (ipykernel)",
   "language": "python",
   "name": "python3"
  },
  "language_info": {
   "codemirror_mode": {
    "name": "ipython",
    "version": 3
   },
   "file_extension": ".py",
   "mimetype": "text/x-python",
   "name": "python",
   "nbconvert_exporter": "python",
   "pygments_lexer": "ipython3",
   "version": "3.9.12"
  }
 },
 "nbformat": 4,
 "nbformat_minor": 5
}
